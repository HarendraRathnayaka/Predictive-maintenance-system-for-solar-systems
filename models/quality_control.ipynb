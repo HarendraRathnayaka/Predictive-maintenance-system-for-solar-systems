{
 "cells": [
  {
   "cell_type": "code",
   "execution_count": 1,
   "metadata": {},
   "outputs": [],
   "source": [
    "import os, pickle\n",
    "import numpy as np \n",
    "import pandas as pd\n",
    "import seaborn as sns\n",
    "import matplotlib.pyplot as plt\n",
    "from catboost import CatBoostRegressor\n",
    "from sklearn.model_selection import train_test_split\n",
    "from sklearn.metrics import mean_absolute_error, mean_squared_error, r2_score"
   ]
  },
  {
   "cell_type": "markdown",
   "metadata": {},
   "source": [
    "#### Data Preprocessing Pipeline for Predictive Quality Control of Solar Power Systems"
   ]
  },
  {
   "cell_type": "code",
   "execution_count": 2,
   "metadata": {},
   "outputs": [],
   "source": [
    "##encode values\n",
    "def data_pipe(\n",
    "            data_path = 'data/Predictive_Quality_Control.xlsx',\n",
    "            class_dict = {\n",
    "                        \"Solar Panel output\": 0,\n",
    "                        \"Charge Controller to battery\": 1,\n",
    "                        \"Charge Controller to inverter\": 2,\n",
    "                        \"Battery output\": 3\n",
    "                    }):\n",
    "    df = pd.read_excel(data_path)\n",
    "    df['DateTime'] = pd.to_datetime(df['DateTime'])\n",
    "    ##Replaces the string values with corresponding numeric values \n",
    "    df['power_output_type'] = df['power_output_type'].apply(lambda x: class_dict[x])\n",
    "    df = df.sort_values(by='DateTime')\n",
    "    del df['DateTime']\n",
    "    df = df.dropna()\n",
    "    \n",
    "    X = df.drop('power_output (W)', axis=1)\n",
    "    Y = df['power_output (W)']\n",
    "\n",
    "    return X, Y"
   ]
  },
  {
   "cell_type": "markdown",
   "metadata": {},
   "source": [
    "#### Train-Test Split for Solar Power Output Prediction"
   ]
  },
  {
   "cell_type": "code",
   "execution_count": 3,
   "metadata": {},
   "outputs": [
    {
     "name": "stdout",
     "output_type": "stream",
     "text": [
      "Xtrain shape: (921, 7)\n",
      "Ytrain shape: (921,)\n",
      "Xtest shape: (231, 7)\n",
      "Ytest shape: (231,)\n"
     ]
    }
   ],
   "source": [
    "##Calling the data_pipe() Function\n",
    "X, Y = data_pipe()\n",
    "##Splitting the Dataset into Training and Testing Sets\n",
    "Xtrain, Xtest, Ytrain, Ytest = train_test_split(\n",
    "                                                X, Y, \n",
    "                                                test_size=0.2, \n",
    "                                                random_state=42\n",
    "                                                )\n",
    "\n",
    "print(f\"Xtrain shape: {Xtrain.shape}\")\n",
    "print(f\"Ytrain shape: {Ytrain.shape}\")\n",
    "print(f\"Xtest shape: {Xtest.shape}\")\n",
    "print(f\"Ytest shape: {Ytest.shape}\")"
   ]
  },
  {
   "cell_type": "code",
   "execution_count": 4,
   "metadata": {},
   "outputs": [
    {
     "name": "stdout",
     "output_type": "stream",
     "text": [
      "Learning rate set to 0.5\n",
      "0:\tlearn: 371.5244668\ttotal: 308ms\tremaining: 5.85s\n",
      "1:\tlearn: 352.0021354\ttotal: 456ms\tremaining: 4.1s\n",
      "2:\tlearn: 327.2674062\ttotal: 603ms\tremaining: 3.42s\n",
      "3:\tlearn: 307.8949059\ttotal: 792ms\tremaining: 3.17s\n",
      "4:\tlearn: 289.1700207\ttotal: 1.02s\tremaining: 3.06s\n",
      "5:\tlearn: 271.2979305\ttotal: 1.16s\tremaining: 2.71s\n",
      "6:\tlearn: 257.1765296\ttotal: 1.3s\tremaining: 2.42s\n",
      "7:\tlearn: 244.3646296\ttotal: 1.46s\tremaining: 2.19s\n",
      "8:\tlearn: 233.7453371\ttotal: 1.62s\tremaining: 1.98s\n",
      "9:\tlearn: 220.7229990\ttotal: 1.77s\tremaining: 1.77s\n",
      "10:\tlearn: 208.7338275\ttotal: 1.92s\tremaining: 1.57s\n",
      "11:\tlearn: 197.5767719\ttotal: 2.07s\tremaining: 1.38s\n",
      "12:\tlearn: 190.1595704\ttotal: 2.21s\tremaining: 1.19s\n",
      "13:\tlearn: 181.3978028\ttotal: 2.34s\tremaining: 1s\n",
      "14:\tlearn: 174.1509056\ttotal: 2.48s\tremaining: 827ms\n",
      "15:\tlearn: 166.9800448\ttotal: 2.62s\tremaining: 656ms\n",
      "16:\tlearn: 159.5448105\ttotal: 2.76s\tremaining: 488ms\n",
      "17:\tlearn: 149.3953598\ttotal: 2.9s\tremaining: 322ms\n",
      "18:\tlearn: 146.0684427\ttotal: 3.04s\tremaining: 160ms\n",
      "19:\tlearn: 142.9401566\ttotal: 3.17s\tremaining: 0us\n"
     ]
    },
    {
     "data": {
      "text/plain": [
       "<catboost.core.CatBoostRegressor at 0x16e8d9eeb90>"
      ]
     },
     "execution_count": 4,
     "metadata": {},
     "output_type": "execute_result"
    }
   ],
   "source": [
    "cat = CatBoostRegressor(\n",
    "                        n_estimators=20,\n",
    "                        max_depth=12\n",
    "                        )\n",
    "cat.fit(X, Y)"
   ]
  },
  {
   "cell_type": "code",
   "execution_count": 5,
   "metadata": {},
   "outputs": [],
   "source": [
    "## Saving the Trained Model for Predictive Quality Control\n",
    "with open('artifacts/quality_control.pickle', 'wb') as f:\n",
    "    pickle.dump(cat, f)"
   ]
  },
  {
   "cell_type": "code",
   "execution_count": 6,
   "metadata": {},
   "outputs": [],
   "source": [
    "## Model Prediction on Training and Test Data\n",
    "Ptrain = cat.predict(Xtrain)\n",
    "Ptest = cat.predict(Xtest)"
   ]
  },
  {
   "cell_type": "markdown",
   "metadata": {},
   "source": [
    "#### Evaluation Metrics for Model Performance"
   ]
  },
  {
   "cell_type": "code",
   "execution_count": 7,
   "metadata": {},
   "outputs": [
    {
     "name": "stdout",
     "output_type": "stream",
     "text": [
      "Mean Squared Error: 19912.45896929279\n",
      "Mean Absolute Error: 115.9678201474305\n",
      "R2 Score: 0.876368000791645\n"
     ]
    }
   ],
   "source": [
    "mse = mean_squared_error(Ytest, Ptest)\n",
    "mae = mean_absolute_error(Ytest, Ptest)\n",
    "r2 = r2_score(Ytest, Ptest)\n",
    "\n",
    "print(f\"Mean Squared Error: {mse}\")\n",
    "print(f\"Mean Absolute Error: {mae}\")\n",
    "print(f\"R2 Score: {r2}\")"
   ]
  },
  {
   "cell_type": "markdown",
   "metadata": {},
   "source": [
    "### Visualization: Ground Truth vs Predicted Power Output"
   ]
  },
  {
   "cell_type": "code",
   "execution_count": 8,
   "metadata": {},
   "outputs": [
    {
     "data": {
      "image/png": "[encoded data removed]",
      "text/plain": [
       "<Figure size 1000x500 with 1 Axes>"
      ]
     },
     "metadata": {},
     "output_type": "display_data"
    }
   ],
   "source": [
    "plt.figure(figsize=(10, 5))\n",
    "plt.scatter(Ytest, Ptest, color='red')\n",
    "plt.plot([20, 1500], [20, 1500], color='blue')\n",
    "plt.xlabel('Ground Truth')\n",
    "plt.ylabel('Predicted')\n",
    "plt.title('Ground Truth vs Predicted')\n",
    "plt.show()"
   ]
  },
  {
   "cell_type": "markdown",
   "metadata": {},
   "source": [
    "### inference"
   ]
  },
  {
   "cell_type": "code",
   "execution_count": 9,
   "metadata": {},
   "outputs": [],
   "source": [
    "## Loading the Saved Model for Predictive Quality Control\n",
    "with open('artifacts/quality_control.pickle', 'rb') as f:\n",
    "    cat = pickle.load(f)"
   ]
  },
  {
   "cell_type": "markdown",
   "metadata": {},
   "source": [
    "#### Inference Function for Predictive Power Quality Control"
   ]
  },
  {
   "cell_type": "code",
   "execution_count": 10,
   "metadata": {},
   "outputs": [],
   "source": [
    "## real-time inference on the power output quality\n",
    "def inference_quality(\n",
    "                    json_data,\n",
    "                    class_dict = {\n",
    "                                \"Solar Panel output\": 0,\n",
    "                                \"Charge Controller to battery\": 1,\n",
    "                                \"Charge Controller to inverter\": 2,\n",
    "                                \"Battery output\": 3\n",
    "                                },\n",
    "                    power_range_dict = {\n",
    "                                    \"components\": {\n",
    "                                        \"Solar Panel output\": {\n",
    "                                            \"lower_bound\": 250,\n",
    "                                            \"upper_bound\": 400\n",
    "                                        },\n",
    "                                        \"Charge Controller to battery\": {\n",
    "                                            \"lower_bound\": 150,\n",
    "                                            \"upper_bound\": 300\n",
    "                                        },\n",
    "                                        \"Charge Controller to inverter\": {\n",
    "                                            \"lower_bound\": 200,\n",
    "                                            \"upper_bound\": 350\n",
    "                                        },\n",
    "                                        \"Battery output\": {\n",
    "                                            \"lower_bound\": 200,\n",
    "                                            \"upper_bound\": 400\n",
    "                                        }\n",
    "                                    }\n",
    "                                }\n",
    "                    ):\n",
    "    df = pd.DataFrame([json_data])\n",
    "    details = power_range_dict['components'][json_data['power_output_type']]\n",
    "    df['power_output_type'] = df['power_output_type'].apply(lambda x: class_dict[x])\n",
    "    pred = cat.predict(df)\n",
    "    power = int(pred.squeeze())\n",
    "    lower_bound = details['lower_bound']\n",
    "    upper_bound = details['upper_bound']\n",
    "\n",
    "    if power < lower_bound:\n",
    "        status = \"Power level is too low\"\n",
    "    elif power > upper_bound:\n",
    "        status = \"Power level is too high\"\n",
    "    else:\n",
    "        status = \"Power level is within range\"\n",
    "    power = f\"{power} W\"\n",
    "    return {\n",
    "        \"power\": power,\n",
    "        \"status\": status\n",
    "        }"
   ]
  },
  {
   "cell_type": "code",
   "execution_count": 11,
   "metadata": {},
   "outputs": [],
   "source": [
    "sample_json = {\n",
    "            \"ambient_temperature (°C)\" : 40.24,\n",
    "            \"irradiance (W/m²)\" : 200.36,\n",
    "            \"humidity (%)\" : 75.76,\n",
    "            \"device_temperature (°C)\" : 45.93,\n",
    "            \"output_current (A)\" : 15.80,\n",
    "            \"output_voltage (V)\" : 409.46,\n",
    "            \"power_output (W)\" : 1377.75,\n",
    "            \"power_output_type\" : \"Battery output\"\n",
    "            }"
   ]
  },
  {
   "cell_type": "code",
   "execution_count": 12,
   "metadata": {},
   "outputs": [
    {
     "data": {
      "text/plain": [
       "{'power': '847 W', 'status': 'Power level is too high'}"
      ]
     },
     "execution_count": 12,
     "metadata": {},
     "output_type": "execute_result"
    }
   ],
   "source": [
    "inference_quality(sample_json)"
   ]
  }
 ],
 "metadata": {
  "kernelspec": {
   "display_name": "myenv",
   "language": "python",
   "name": "python3"
  },
  "language_info": {
   "codemirror_mode": {
    "name": "ipython",
    "version": 3
   },
   "file_extension": ".py",
   "mimetype": "text/x-python",
   "name": "python",
   "nbconvert_exporter": "python",
   "pygments_lexer": "ipython3",
   "version": "3.10.15"
  }
 },
 "nbformat": 4,
 "nbformat_minor": 2
}
